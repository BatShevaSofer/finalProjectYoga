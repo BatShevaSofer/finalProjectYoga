{
 "cells": [
  {
   "cell_type": "code",
   "execution_count": 8,
   "metadata": {},
   "outputs": [],
   "source": [
    "import numpy as np\n",
    "import matplotlib.pyplot as plt"
   ]
  },
  {
   "cell_type": "code",
   "execution_count": 9,
   "metadata": {},
   "outputs": [],
   "source": [
    "from keras.preprocessing.image import ImageDataGenerator\n",
    "# Keras function to augment the image\n",
    "image_gen = ImageDataGenerator(rotation_range=30,\n",
    "         width_shift_range=0.1,\n",
    "         height_shift_range=0.1,\n",
    "         shear_range=0.15,\n",
    "         zoom_range=[0.9, 1.1],\n",
    "         horizontal_flip=True,\n",
    "         vertical_flip=False,\n",
    "         fill_mode='reflect',\n",
    "         data_format='channels_last',\n",
    "         brightness_range=[0.5, 1.5])"
   ]
  },
  {
   "cell_type": "code",
   "execution_count": 10,
   "metadata": {},
   "outputs": [],
   "source": [
    "img_path = rf\"C:\\Users\\Bat_Sheva\\Downloads\\experienced-yogi-doing-wheel-yoga-pose-gym.jpg\"# יש להחליף כתובת התמונה שלך\n"
   ]
  },
  {
   "cell_type": "code",
   "execution_count": 11,
   "metadata": {},
   "outputs": [
    {
     "name": "stdout",
     "output_type": "stream",
     "text": [
      "OK\n"
     ]
    }
   ],
   "source": [
    "from pathlib import Path\n",
    "my_file = Path(img_path)\n",
    "if my_file.is_file():\n",
    "    print('OK')\n",
    "else:\n",
    "    print('No image')"
   ]
  },
  {
   "cell_type": "code",
   "execution_count": 15,
   "metadata": {},
   "outputs": [
    {
     "ename": "AttributeError",
     "evalue": "module 'scipy.ndimage' has no attribute 'imread'",
     "output_type": "error",
     "traceback": [
      "\u001b[1;31m---------------------------------------------------------------------------\u001b[0m",
      "\u001b[1;31mAttributeError\u001b[0m                            Traceback (most recent call last)",
      "\u001b[1;32mc:\\Users\\Bat_Sheva\\מסמכים\\programming\\BlackOps\\final\\add_images.ipynb Cell 5\u001b[0m line \u001b[0;36m4\n\u001b[0;32m      <a href='vscode-notebook-cell:/c%3A/Users/Bat_Sheva/%D7%9E%D7%A1%D7%9E%D7%9B%D7%99%D7%9D/programming/BlackOps/final/add_images.ipynb#W4sZmlsZQ%3D%3D?line=0'>1</a>\u001b[0m \u001b[39mfrom\u001b[39;00m \u001b[39mscipy\u001b[39;00m \u001b[39mimport\u001b[39;00m ndimage\n\u001b[0;32m      <a href='vscode-notebook-cell:/c%3A/Users/Bat_Sheva/%D7%9E%D7%A1%D7%9E%D7%9B%D7%99%D7%9D/programming/BlackOps/final/add_images.ipynb#W4sZmlsZQ%3D%3D?line=1'>2</a>\u001b[0m \u001b[39m# Obtain image from disk : ndimage.imread()\u001b[39;00m\n\u001b[0;32m      <a href='vscode-notebook-cell:/c%3A/Users/Bat_Sheva/%D7%9E%D7%A1%D7%9E%D7%9B%D7%99%D7%9D/programming/BlackOps/final/add_images.ipynb#W4sZmlsZQ%3D%3D?line=2'>3</a>\u001b[0m \u001b[39m# Make the image dimensions for use with our code : np.expand_dims()\u001b[39;00m\n\u001b[1;32m----> <a href='vscode-notebook-cell:/c%3A/Users/Bat_Sheva/%D7%9E%D7%A1%D7%9E%D7%9B%D7%99%D7%9D/programming/BlackOps/final/add_images.ipynb#W4sZmlsZQ%3D%3D?line=3'>4</a>\u001b[0m img \u001b[39m=\u001b[39m np\u001b[39m.\u001b[39mexpand_dims(ndimage\u001b[39m.\u001b[39;49mimread(img_path),\u001b[39m0\u001b[39m)\n",
      "\u001b[1;31mAttributeError\u001b[0m: module 'scipy.ndimage' has no attribute 'imread'"
     ]
    }
   ],
   "source": [
    "from scipy import ndimage\n",
    "# Obtain image from disk : ndimage.imread()\n",
    "# Make the image dimensions for use with our code : np.expand_dims()\n",
    "img = np.expand_dims(ndimage.imread(img_path),0)"
   ]
  },
  {
   "cell_type": "code",
   "execution_count": 13,
   "metadata": {},
   "outputs": [
    {
     "ename": "NameError",
     "evalue": "name 'img' is not defined",
     "output_type": "error",
     "traceback": [
      "\u001b[1;31m---------------------------------------------------------------------------\u001b[0m",
      "\u001b[1;31mNameError\u001b[0m                                 Traceback (most recent call last)",
      "\u001b[1;32mc:\\Users\\Bat_Sheva\\מסמכים\\programming\\BlackOps\\final\\add_images.ipynb Cell 6\u001b[0m line \u001b[0;36m1\n\u001b[1;32m----> <a href='vscode-notebook-cell:/c%3A/Users/Bat_Sheva/%D7%9E%D7%A1%D7%9E%D7%9B%D7%99%D7%9D/programming/BlackOps/final/add_images.ipynb#W5sZmlsZQ%3D%3D?line=0'>1</a>\u001b[0m plt\u001b[39m.\u001b[39mimshow(img[\u001b[39m0\u001b[39m])\n",
      "\u001b[1;31mNameError\u001b[0m: name 'img' is not defined"
     ]
    }
   ],
   "source": [
    "plt.imshow(img[0])"
   ]
  },
  {
   "cell_type": "code",
   "execution_count": null,
   "metadata": {},
   "outputs": [],
   "source": []
  },
  {
   "cell_type": "code",
   "execution_count": null,
   "metadata": {},
   "outputs": [],
   "source": []
  }
 ],
 "metadata": {
  "kernelspec": {
   "display_name": "venv",
   "language": "python",
   "name": "python3"
  },
  "language_info": {
   "codemirror_mode": {
    "name": "ipython",
    "version": 3
   },
   "file_extension": ".py",
   "mimetype": "text/x-python",
   "name": "python",
   "nbconvert_exporter": "python",
   "pygments_lexer": "ipython3",
   "version": "3.11.5"
  }
 },
 "nbformat": 4,
 "nbformat_minor": 2
}
